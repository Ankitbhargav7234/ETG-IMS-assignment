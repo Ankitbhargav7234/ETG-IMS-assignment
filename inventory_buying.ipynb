{
  "nbformat": 4,
  "nbformat_minor": 0,
  "metadata": {
    "colab": {
      "name": "IMS.ipynb",
      "provenance": []
    },
    "kernelspec": {
      "name": "python3",
      "display_name": "Python 3"
    },
    "language_info": {
      "name": "python"
    }
  },
  "cells": [
    {
      "cell_type": "code",
      "metadata": {
        "id": "P2XOeEcmrlh6"
      },
      "source": [
        "inventory={1001:{'product':'maggi','qty':50,'price':35,'discount':10,'rating':4.5},\n",
        "           1002:{'product':'noodle','qty':35,'price':50,'discount':10,'rating':4.5},\n",
        "           1003:{'product':'pasta','qty':33,'price':35,'discount':5,'rating':4},\n",
        "           1004:{'product':'cookies','qty':65,'price':30,'discount':5,'rating':4},\n",
        "           1005:{'product':'bread','qty':45,'price':30,'discount':5,'rating':5},\n",
        "           1006:{'product':'rice','qty':27,'price':650,'discount':50,'rating':4},\n",
        "           1007:{'product':'pulses','qty':60,'price':75,'discount':15,'rating':4.5},\n",
        "           1008:{'product':'veggies','qty':44,'price':45,'discount':10,'rating':4},\n",
        "           1009:{'product':'apples','qty':62,'price':350,'discount':40,'rating':5},\n",
        "           1010:{'product':'bananas','qty':60,'price':40,'discount':5,'rating':4},\n",
        "           1011:{'product':'tomatoes','qty':55,'price':45,'discount':5,'rating':4.5},\n",
        "           1012:{'product':'potatoes','qty':56,'price':25,'discount':5,'rating':4},\n",
        "           1013:{'product':'mangoes','qty':45,'price':90,'discount':15,'rating':4},\n",
        "           1014:{'product':'brown bread','qty':66,'price':45,'discount':5,'rating':5},\n",
        "           1015:{'product':'butter','qty':87,'price':600,'discount':70,'rating':4},\n",
        "           1016:{'product':'upper','qty':45,'price':650,'discount':50,'rating':4.5},\n",
        "           1017:{'product':'shoes','qty':80,'price':450,'discount':50,'rating':4},\n",
        "           1018:{'product':'jackets','qty':25,'price':1050,'discount':150,'rating':4},\n",
        "           1019:{'product':'tshirt','qty':60,'price':350,'discount':50,'rating':4},\n",
        "           1020:{'product':'jeans','qty':45,'price':750,'discount':50,'rating':4},\n",
        "           1021:{'product':'soaps','qty':67,'price':35,'discount':5,'rating':4},\n",
        "           1022:{'product':'perfumes','qty':77,'price':150,'discount':30,'rating':5},\n",
        "           1023:{'product':'hair spray','qty':27,'price':200,'discount':30,'rating':4},\n",
        "           1024:{'product':'wax','qty':34,'price':150,'discount':30,'rating':4},\n",
        "           1025:{'product':'detergent','qty':55,'price':85,'discount':10,'rating':4},\n",
        "           1026:{'product':'sneakers','qty':60,'price':450,'discount':50,'rating':4},\n",
        "           1027:{'product':'sunglasses','qty':27,'price':250,'discount':60,'rating':5},\n",
        "           1028:{'product':'carpets','qty':60,'price':550,'discount':50,'rating':4},\n",
        "           1029:{'product':'brush','qty':27,'price':30,'discount':5,'rating':4},\n",
        "           1030:{'product':'notebook','qty':60,'price':40,'discount':5,'rating':5}\n",
        "}"
      ],
      "execution_count": 20,
      "outputs": []
    },
    {
      "cell_type": "code",
      "metadata": {
        "colab": {
          "base_uri": "https://localhost:8080/"
        },
        "id": "PbThPwnG9qEX",
        "outputId": "b48ed10d-d186-4ffe-a41c-b75a0655bebb"
      },
      "source": [
        "prod_num=int(input(\"Enter product no: \"))\n",
        "qnty=int(input(\"Enter quantity: \"))\n"
      ],
      "execution_count": 21,
      "outputs": [
        {
          "name": "stdout",
          "output_type": "stream",
          "text": [
            "Enter product no: 1030\n",
            "Enter quantity: 5\n"
          ]
        }
      ]
    },
    {
      "cell_type": "code",
      "metadata": {
        "colab": {
          "base_uri": "https://localhost:8080/"
        },
        "id": "iIkny-Sl_xQa",
        "outputId": "2fa6cd1b-04a4-4218-be5d-cf53cc04445e"
      },
      "source": [
        "check = 0\n",
        "for i in inventory.keys():\n",
        "    if prod_num==i:\n",
        "        if inventory[prod_num]['qty']>=qnty:\n",
        "            inventory[prod_num]['qty']=inventory[prod_num]['qty']-qnty\n",
        "            print(inventory[prod_num]['qty'])\n",
        "            check=1\n",
        "            break\n",
        "        else:\n",
        "            print(\"Sorry!!!product out of stock\")\n",
        "            check=1\n",
        "            break\n",
        "if check==0:\n",
        "  print(\"No such item available!\")\n",
        "  "
      ],
      "execution_count": 26,
      "outputs": [
        {
          "output_type": "stream",
          "name": "stdout",
          "text": [
            "50\n"
          ]
        }
      ]
    },
    {
      "cell_type": "code",
      "metadata": {
        "id": "HJkWHEoN88DP"
      },
      "source": [
        "import json\n",
        "js=json.dumps(inventory)"
      ],
      "execution_count": 27,
      "outputs": []
    },
    {
      "cell_type": "code",
      "metadata": {
        "id": "FLFYcyM79PqT"
      },
      "source": [
        "fp=open(\"inventory_data.json\",\"w\")\n",
        "fp.write(js)\n",
        "fp.close()"
      ],
      "execution_count": 28,
      "outputs": []
    },
    {
      "cell_type": "code",
      "metadata": {
        "colab": {
          "base_uri": "https://localhost:8080/"
        },
        "id": "W8CrJS_QNuVK",
        "outputId": "e7f712ea-b86c-4c90-e624-be7af683425b"
      },
      "source": [
        "\n",
        "print(\"**************************************\")\n",
        "print(\"*  Product name: \",inventory[prod_num]['product'])\n",
        "print(\"*  Product code: \",prod_num)\n",
        "print(\"*  Product quantity: \",qnty)\n",
        "print(\"*  Product actual price: \",inventory[prod_num]['price']*qnty)\n",
        "print(\"*  product discounted price: \",((inventory[prod_num]['price']*qnty)-(inventory[prod_num]['discount']*qnty)))\n",
        "print(\"**************************************\")"
      ],
      "execution_count": 29,
      "outputs": [
        {
          "output_type": "stream",
          "name": "stdout",
          "text": [
            "**************************************\n",
            "*  Product name:  notebook\n",
            "*  Product code:  1030\n",
            "*  Product quantity:  5\n",
            "*  Product actual price:  200\n",
            "*  product discounted price:  175\n",
            "**************************************\n"
          ]
        }
      ]
    },
    {
      "cell_type": "code",
      "metadata": {
        "id": "Q7OC9-Y0OrCo"
      },
      "source": [
        "fp=open(\"inventory_data.json\",\"r\")\n",
        "txt=fp.read()\n",
        "fp.close()"
      ],
      "execution_count": 30,
      "outputs": []
    },
    {
      "cell_type": "code",
      "metadata": {
        "colab": {
          "base_uri": "https://localhost:8080/"
        },
        "id": "LVaqEWm6Vxhc",
        "outputId": "7dd681a3-f1cc-4e89-8c6a-1a3d56bd01d8"
      },
      "source": [
        "inventory=json.loads(txt)\n",
        "print(inventory)"
      ],
      "execution_count": 31,
      "outputs": [
        {
          "output_type": "stream",
          "name": "stdout",
          "text": [
            "{'1001': {'product': 'maggi', 'qty': 50, 'price': 35, 'discount': 10, 'rating': 4.5}, '1002': {'product': 'noodle', 'qty': 35, 'price': 50, 'discount': 10, 'rating': 4.5}, '1003': {'product': 'pasta', 'qty': 33, 'price': 35, 'discount': 5, 'rating': 4}, '1004': {'product': 'cookies', 'qty': 65, 'price': 30, 'discount': 5, 'rating': 4}, '1005': {'product': 'bread', 'qty': 45, 'price': 30, 'discount': 5, 'rating': 5}, '1006': {'product': 'rice', 'qty': 27, 'price': 650, 'discount': 50, 'rating': 4}, '1007': {'product': 'pulses', 'qty': 60, 'price': 75, 'discount': 15, 'rating': 4.5}, '1008': {'product': 'veggies', 'qty': 44, 'price': 45, 'discount': 10, 'rating': 4}, '1009': {'product': 'apples', 'qty': 62, 'price': 350, 'discount': 40, 'rating': 5}, '1010': {'product': 'bananas', 'qty': 60, 'price': 40, 'discount': 5, 'rating': 4}, '1011': {'product': 'tomatoes', 'qty': 55, 'price': 45, 'discount': 5, 'rating': 4.5}, '1012': {'product': 'potatoes', 'qty': 56, 'price': 25, 'discount': 5, 'rating': 4}, '1013': {'product': 'mangoes', 'qty': 45, 'price': 90, 'discount': 15, 'rating': 4}, '1014': {'product': 'brown bread', 'qty': 66, 'price': 45, 'discount': 5, 'rating': 5}, '1015': {'product': 'butter', 'qty': 87, 'price': 600, 'discount': 70, 'rating': 4}, '1016': {'product': 'upper', 'qty': 45, 'price': 650, 'discount': 50, 'rating': 4.5}, '1017': {'product': 'shoes', 'qty': 80, 'price': 450, 'discount': 50, 'rating': 4}, '1018': {'product': 'jackets', 'qty': 25, 'price': 1050, 'discount': 150, 'rating': 4}, '1019': {'product': 'tshirt', 'qty': 60, 'price': 350, 'discount': 50, 'rating': 4}, '1020': {'product': 'jeans', 'qty': 45, 'price': 750, 'discount': 50, 'rating': 4}, '1021': {'product': 'soaps', 'qty': 67, 'price': 35, 'discount': 5, 'rating': 4}, '1022': {'product': 'perfumes', 'qty': 77, 'price': 150, 'discount': 30, 'rating': 5}, '1023': {'product': 'hair spray', 'qty': 27, 'price': 200, 'discount': 30, 'rating': 4}, '1024': {'product': 'wax', 'qty': 34, 'price': 150, 'discount': 30, 'rating': 4}, '1025': {'product': 'detergent', 'qty': 55, 'price': 85, 'discount': 10, 'rating': 4}, '1026': {'product': 'sneakers', 'qty': 60, 'price': 450, 'discount': 50, 'rating': 4}, '1027': {'product': 'sunglasses', 'qty': 27, 'price': 250, 'discount': 60, 'rating': 5}, '1028': {'product': 'carpets', 'qty': 60, 'price': 550, 'discount': 50, 'rating': 4}, '1029': {'product': 'brush', 'qty': 27, 'price': 30, 'discount': 5, 'rating': 4}, '1030': {'product': 'notebook', 'qty': 50, 'price': 40, 'discount': 5, 'rating': 5}}\n"
          ]
        }
      ]
    },
    {
      "cell_type": "code",
      "metadata": {
        "id": "PrsH6hKlhfk0"
      },
      "source": [
        "sale={user:{'product':1021,'quantity':3,'mobile':9999999999,'pin code':464646}}"
      ],
      "execution_count": 32,
      "outputs": []
    },
    {
      "cell_type": "code",
      "metadata": {
        "colab": {
          "base_uri": "https://localhost:8080/"
        },
        "id": "H_d4zFFHgrx6",
        "outputId": "bd150ac1-082d-41c9-91cb-c1092357377e"
      },
      "source": [
        "user=int(input(\"Enter user id: \"))\n",
        "mob=int(input(\"Enter contact no: \"))\n",
        "pin=int(input(\"Enter area pin: \"))\n",
        "\n",
        "sale[user]={'product':prod_num,'quantity':qnty,'mobile':mob,'pin code':pin}"
      ],
      "execution_count": 34,
      "outputs": [
        {
          "name": "stdout",
          "output_type": "stream",
          "text": [
            "Enter user id: 111111\n",
            "Enter contact no: 3489376495\n",
            "Enter area pin: 454545\n"
          ]
        }
      ]
    },
    {
      "cell_type": "code",
      "metadata": {
        "id": "MBwNrulmhBF3"
      },
      "source": [
        "jj=json.dumps(sale)"
      ],
      "execution_count": 35,
      "outputs": []
    },
    {
      "cell_type": "code",
      "metadata": {
        "id": "P6wq-lfmhOlH"
      },
      "source": [
        "fb=open(\"sales.json\",\"w\")\n",
        "fb.write(jj)\n",
        "fb.close()"
      ],
      "execution_count": 36,
      "outputs": []
    },
    {
      "cell_type": "code",
      "metadata": {
        "id": "hYeEaE9Tntkm"
      },
      "source": [
        "fb=open(\"sales.json\",\"r\")\n",
        "info=fb.read()\n",
        "fb.close()"
      ],
      "execution_count": 37,
      "outputs": []
    },
    {
      "cell_type": "code",
      "metadata": {
        "colab": {
          "base_uri": "https://localhost:8080/"
        },
        "id": "doU8oSHdn0LO",
        "outputId": "130c1a2c-d6ca-4816-bd69-e6e4a80071f9"
      },
      "source": [
        "sale=json.loads(info)\n",
        "print(sale)"
      ],
      "execution_count": 38,
      "outputs": [
        {
          "output_type": "stream",
          "name": "stdout",
          "text": [
            "{'11110': {'product': 1021, 'quantity': 3, 'mobile': 9999999999, 'pin code': 464646}, '111111': {'product': 1030, 'quantity': 5, 'mobile': 3489376495, 'pin code': 454545}}\n"
          ]
        }
      ]
    }
  ]
}