{
  "nbformat": 4,
  "nbformat_minor": 0,
  "metadata": {
    "colab": {
      "name": "IMS_add.ipynb",
      "provenance": []
    },
    "kernelspec": {
      "name": "python3",
      "display_name": "Python 3"
    },
    "language_info": {
      "name": "python"
    }
  },
  "cells": [
    {
      "cell_type": "code",
      "metadata": {
        "id": "hgc9sw7-UIAS"
      },
      "source": [
        "inventory={1001:{'product':'maggi','qty':50,'price':35,'discount':10,'rating':4.5},\n",
        "           1002:{'product':'noodle','qty':35,'price':50,'discount':10,'rating':4.5},\n",
        "           1003:{'product':'pasta','qty':33,'price':35,'discount':5,'rating':4},\n",
        "           1004:{'product':'cookies','qty':65,'price':30,'discount':5,'rating':4},\n",
        "           1005:{'product':'bread','qty':45,'price':30,'discount':5,'rating':5},\n",
        "           1006:{'product':'rice','qty':27,'price':650,'discount':50,'rating':4},\n",
        "           1007:{'product':'pulses','qty':60,'price':75,'discount':15,'rating':4.5},\n",
        "           1008:{'product':'veggies','qty':44,'price':45,'discount':10,'rating':4},\n",
        "           1009:{'product':'apples','qty':62,'price':350,'discount':40,'rating':5},\n",
        "           1010:{'product':'bananas','qty':60,'price':40,'discount':5,'rating':4},\n",
        "           1011:{'product':'tomatoes','qty':55,'price':45,'discount':5,'rating':4.5},\n",
        "           1012:{'product':'potatoes','qty':56,'price':25,'discount':5,'rating':4},\n",
        "           1013:{'product':'mangoes','qty':45,'price':90,'discount':15,'rating':4},\n",
        "           1014:{'product':'brown bread','qty':66,'price':45,'discount':5,'rating':5},\n",
        "           1015:{'product':'butter','qty':87,'price':600,'discount':70,'rating':4},\n",
        "           1016:{'product':'upper','qty':45,'price':650,'discount':50,'rating':4.5},\n",
        "           1017:{'product':'shoes','qty':80,'price':450,'discount':50,'rating':4},\n",
        "           1018:{'product':'jackets','qty':25,'price':1050,'discount':150,'rating':4},\n",
        "           1019:{'product':'tshirt','qty':60,'price':350,'discount':50,'rating':4},\n",
        "           1020:{'product':'jeans','qty':45,'price':750,'discount':50,'rating':4},\n",
        "           1021:{'product':'soaps','qty':67,'price':35,'discount':5,'rating':4},\n",
        "           1022:{'product':'perfumes','qty':77,'price':150,'discount':30,'rating':5},\n",
        "           1023:{'product':'hair spray','qty':27,'price':200,'discount':30,'rating':4},\n",
        "           1024:{'product':'wax','qty':34,'price':150,'discount':30,'rating':4},\n",
        "           1025:{'product':'detergent','qty':55,'price':85,'discount':10,'rating':4},\n",
        "           1026:{'product':'sneakers','qty':60,'price':450,'discount':50,'rating':4},\n",
        "           1027:{'product':'sunglasses','qty':27,'price':250,'discount':60,'rating':5},\n",
        "           1028:{'product':'carpets','qty':60,'price':550,'discount':50,'rating':4},\n",
        "           1029:{'product':'brush','qty':27,'price':30,'discount':5,'rating':4},\n",
        "           1030:{'product':'notebook','qty':60,'price':40,'discount':5,'rating':5}\n",
        "}"
      ],
      "execution_count": 5,
      "outputs": []
    },
    {
      "cell_type": "code",
      "metadata": {
        "colab": {
          "base_uri": "https://localhost:8080/"
        },
        "id": "EcO3MPp0QWeq",
        "outputId": "db531468-789f-46d3-b085-2c9140497426"
      },
      "source": [
        "code=int(input(\"Enter product code: \"))\n",
        "name=input(\"Enter product name: \")\n",
        "qntity=int(input(\"Enter quantity: \"))\n",
        "pr=int(input(\"Enter price: \"))\n",
        "dis=int(input(\"Enter discount: \"))\n",
        "rate=float(input(\"Enter rating of product: \"))\n",
        "\n",
        "for i in inventory.keys():\n",
        "  if i==code:\n",
        "    inventory[code]['qty']=inventory[code]['qty']+qntity\n",
        "    break\n",
        "  else:\n",
        "    inventory[code]={'product':name,'qty':qntity,'price':pr,'discount':dis,'rating':rate}\n",
        "    break\n",
        "\n",
        "import json\n",
        "js=json.dumps(inventory)\n",
        "\n",
        "fp=open(\"inventory_data1.json\",\"w\")\n",
        "fp.write(js)\n",
        "fp.close()"
      ],
      "execution_count": 10,
      "outputs": [
        {
          "name": "stdout",
          "output_type": "stream",
          "text": [
            "Enter product code: 1032\n",
            "Enter product name: milk\n",
            "Enter quantity: 60\n",
            "Enter price: 60\n",
            "Enter discount: 10\n",
            "Enter rating of product: 5\n"
          ]
        }
      ]
    },
    {
      "cell_type": "code",
      "metadata": {
        "id": "-aENrfp-PuVc"
      },
      "source": [
        "fp=open(\"inventory_data1.json\",\"r\")\n",
        "txt=fp.read()\n",
        "fp.close()"
      ],
      "execution_count": 11,
      "outputs": []
    },
    {
      "cell_type": "code",
      "metadata": {
        "colab": {
          "base_uri": "https://localhost:8080/"
        },
        "id": "a9XUAZLQS3us",
        "outputId": "b18a9296-5a40-42ce-cd21-e10d62b01942"
      },
      "source": [
        "print(txt)"
      ],
      "execution_count": 12,
      "outputs": [
        {
          "output_type": "stream",
          "name": "stdout",
          "text": [
            "{\"1001\": {\"product\": \"maggi\", \"qty\": 50, \"price\": 35, \"discount\": 10, \"rating\": 4.5}, \"1002\": {\"product\": \"noodle\", \"qty\": 35, \"price\": 50, \"discount\": 10, \"rating\": 4.5}, \"1003\": {\"product\": \"pasta\", \"qty\": 33, \"price\": 35, \"discount\": 5, \"rating\": 4}, \"1004\": {\"product\": \"cookies\", \"qty\": 65, \"price\": 30, \"discount\": 5, \"rating\": 4}, \"1005\": {\"product\": \"bread\", \"qty\": 45, \"price\": 30, \"discount\": 5, \"rating\": 5}, \"1006\": {\"product\": \"rice\", \"qty\": 27, \"price\": 650, \"discount\": 50, \"rating\": 4}, \"1007\": {\"product\": \"pulses\", \"qty\": 60, \"price\": 75, \"discount\": 15, \"rating\": 4.5}, \"1008\": {\"product\": \"veggies\", \"qty\": 44, \"price\": 45, \"discount\": 10, \"rating\": 4}, \"1009\": {\"product\": \"apples\", \"qty\": 62, \"price\": 350, \"discount\": 40, \"rating\": 5}, \"1010\": {\"product\": \"bananas\", \"qty\": 60, \"price\": 40, \"discount\": 5, \"rating\": 4}, \"1011\": {\"product\": \"tomatoes\", \"qty\": 55, \"price\": 45, \"discount\": 5, \"rating\": 4.5}, \"1012\": {\"product\": \"potatoes\", \"qty\": 56, \"price\": 25, \"discount\": 5, \"rating\": 4}, \"1013\": {\"product\": \"mangoes\", \"qty\": 45, \"price\": 90, \"discount\": 15, \"rating\": 4}, \"1014\": {\"product\": \"brown bread\", \"qty\": 66, \"price\": 45, \"discount\": 5, \"rating\": 5}, \"1015\": {\"product\": \"butter\", \"qty\": 87, \"price\": 600, \"discount\": 70, \"rating\": 4}, \"1016\": {\"product\": \"upper\", \"qty\": 45, \"price\": 650, \"discount\": 50, \"rating\": 4.5}, \"1017\": {\"product\": \"shoes\", \"qty\": 80, \"price\": 450, \"discount\": 50, \"rating\": 4}, \"1018\": {\"product\": \"jackets\", \"qty\": 25, \"price\": 1050, \"discount\": 150, \"rating\": 4}, \"1019\": {\"product\": \"tshirt\", \"qty\": 60, \"price\": 350, \"discount\": 50, \"rating\": 4}, \"1020\": {\"product\": \"jeans\", \"qty\": 45, \"price\": 750, \"discount\": 50, \"rating\": 4}, \"1021\": {\"product\": \"soaps\", \"qty\": 67, \"price\": 35, \"discount\": 5, \"rating\": 4}, \"1022\": {\"product\": \"perfumes\", \"qty\": 77, \"price\": 150, \"discount\": 30, \"rating\": 5}, \"1023\": {\"product\": \"hair spray\", \"qty\": 27, \"price\": 200, \"discount\": 30, \"rating\": 4}, \"1024\": {\"product\": \"wax\", \"qty\": 34, \"price\": 150, \"discount\": 30, \"rating\": 4}, \"1025\": {\"product\": \"detergent\", \"qty\": 55, \"price\": 85, \"discount\": 10, \"rating\": 4}, \"1026\": {\"product\": \"sneakers\", \"qty\": 60, \"price\": 450, \"discount\": 50, \"rating\": 4}, \"1027\": {\"product\": \"sunglasses\", \"qty\": 27, \"price\": 250, \"discount\": 60, \"rating\": 5}, \"1028\": {\"product\": \"carpets\", \"qty\": 60, \"price\": 550, \"discount\": 50, \"rating\": 4}, \"1029\": {\"product\": \"brush\", \"qty\": 27, \"price\": 30, \"discount\": 5, \"rating\": 4}, \"1030\": {\"product\": \"notebook\", \"qty\": 60, \"price\": 40, \"discount\": 5, \"rating\": 5}, \"1031\": {\"product\": \"choco cake\", \"qty\": 25, \"price\": 450, \"discount\": 75, \"rating\": 4}, \"1032\": {\"product\": \"milk\", \"qty\": 60, \"price\": 60, \"discount\": 10, \"rating\": 5.0}}\n"
          ]
        }
      ]
    }
  ]
}